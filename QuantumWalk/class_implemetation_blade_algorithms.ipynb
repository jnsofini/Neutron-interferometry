{
 "cells": [
  {
   "cell_type": "markdown",
   "metadata": {},
   "source": [
    "# OO Implementation of Quantum Walk\n",
    "\n",
    "This works through the implementation algorithm and then plot profiles at the exit of a sigle blade. "
   ]
  },
  {
   "cell_type": "markdown",
   "metadata": {},
   "source": [
    "<img src=\"qw.png\" style=\"height:500px\">"
   ]
  },
  {
   "cell_type": "markdown",
   "metadata": {},
   "source": [
    "A ray or single line is used to represent a single logical level of any wave, which may be modelled as a statevector $|a_j\\rangle$ or $|b_j\\rangle$, where the labels $a$ and $b$ refer to rays moving upwards (positivey $y$) or  downwards (negativey $y$)  respectively. The ray  tracing approach is analogous to a path integral and is used toillustrate  some  of  the  features  of  the  wave  leaving  the crystal.\n",
    "\n",
    "Input:\n",
    "The input $|\\Psi\\rangle = \\begin{pmatrix}\n",
    "1 \\\\\n",
    "0\n",
    "\\end{pmatrix}$\n",
    "\n",
    "The operator is generally $U = \\begin{pmatrix}\n",
    "\\cos\\theta/2 & \\sin\\theta/2 \\\\\n",
    "-\\sin\\theta/2 & \\cos\\theta/2\n",
    "\\end{pmatrix}$.\n",
    "\n",
    "We notice that on node $j$ at the imput, the state splits into two. The one proprgating upward splits into two as well. On the other the one propagating downward splits to two and this process goes on generating rays usually refered to as secondary generation. Our task is to out put this state at the output and make a plot of it. The algorithm here describe how we program the blade so that the wave splits.\n",
    "\n",
    "After the first plane, we have a state\n",
    "\n",
    "$\\longrightarrow |\\Psi\\rangle_1 =   \\begin{pmatrix}\n",
    "\\cos\\theta \\\\\n",
    "-\\sin\\theta\n",
    "\\end{pmatrix}$.\n",
    "\n",
    "To make it an input to the second layer, it must have four input, two to the the top and two to the bottom. So as to get \n",
    "\n",
    "$\\longrightarrow |\\Psi\\rangle_{in2} =   \\begin{pmatrix}\n",
    "\\cos\\theta \\\\\n",
    "0\\\\\n",
    "0\\\\\n",
    "-\\sin\\theta\n",
    "\\end{pmatrix}$.\n",
    "\n",
    "This is achiveved via the roll function in mumpy. This process is repeated for the number of planes in the blade."
   ]
  },
  {
   "cell_type": "code",
   "execution_count": 7,
   "metadata": {},
   "outputs": [],
   "source": [
    "#Calulate the intensity as a function of phase flag with a mismatch m on the 3rd blade.\n",
    "\n",
    "#import and use functions from QWfunction module\n",
    "%matplotlib inline\n",
    "import numpy as np\n",
    "import matplotlib.pyplot as plt\n",
    "from ipywidgets import interact, interactive, fixed, interact_manual\n",
    "import ipywidgets as widgets"
   ]
  },
  {
   "cell_type": "code",
   "execution_count": 15,
   "metadata": {},
   "outputs": [],
   "source": [
    "#Helper functions\n",
    "\n",
    "def blade(n=100, q=np.pi/8): #single blade operation return wavefuntion at exit\n",
    "    '''\n",
    "    The blade function simulate the process shown in figure above. It takes in a state, number of planes and \n",
    "    return the transmitted component and reflected components\n",
    "    -------\n",
    "    Ope: \n",
    "    2x2 matrix operator to act on a node\n",
    "    n: \n",
    "    the number of planes\n",
    "    \n",
    "    psin: the input state which in a 2x2 matrix on the first blade.\n",
    "    '''\n",
    "    psin = np.array([[1],[0]]);\n",
    "    Opef = np.matrix([[np.cos(q), np.sin(q)], [-np.sin(q), np.cos(q)]]) \n",
    "    PsiPad=np.zeros((2,n-1));\n",
    "    psi=np.concatenate((psin, PsiPad),axis=1);\n",
    "    psi=np.matrix(psi)\n",
    "\n",
    "    for k in range(n):\n",
    "        psi=Opef*psi;        \n",
    "        psi[1]=np.roll(psi[1],1,axis=1);\n",
    "    \n",
    "    return psi\n",
    "        \n",
    "def plot2(psi):\n",
    "    '''\n",
    "    Takes two plots and make\n",
    "    '''\n",
    "    psi = np.squeeze(np.asarray(psi))\n",
    "    x = np.linspace(-1, 1, len(psi[0]))\n",
    "\n",
    "    fig, (ax1, ax2) = plt.subplots(1,2, figsize = (15,5));\n",
    "    ax1.plot(x, np.abs(psi[0])**2, 'b-',linewidth=1.5, marker='o', label='O')\n",
    "    ax2.plot(x, np.abs(psi[1])**2, 'k-',linewidth=1.5, marker='v', label='H')\n",
    "    ax1.set_ylabel('Integrated Intensity',fontsize=20)\n",
    "    ax1.set_xlabel('Position',fontsize=20)\n",
    "    ax2.set_xlabel('Position',fontsize=20)\n",
    "\n",
    "    ax2.xaxis.set_tick_params(labelsize=20)\n",
    "    ax2.yaxis.set_tick_params(labelsize=20)\n",
    "    ax1.xaxis.set_tick_params(labelsize=20)\n",
    "    ax1.yaxis.set_tick_params(labelsize=20)"
   ]
  },
  {
   "cell_type": "code",
   "execution_count": 16,
   "metadata": {},
   "outputs": [
    {
     "data": {
      "application/vnd.jupyter.widget-view+json": {
       "model_id": "6e5f3b86cb774f73bc73cedeecc4b614",
       "version_major": 2,
       "version_minor": 0
      },
      "text/plain": [
       "interactive(children=(FloatSlider(value=0.0, description='q', max=1.57, min=-1.57), Output(layout=Layout(heigh…"
      ]
     },
     "metadata": {},
     "output_type": "display_data"
    }
   ],
   "source": [
    "def bl(q):\n",
    "    psi = blade(100, q)\n",
    "    plot2(psi)\n",
    "    \n",
    "interactive_plot = interactive(bl,  q=(-3.14/2, 3.14/2))\n",
    "output = interactive_plot.children[-1]\n",
    "output.layout.height = '350px'\n",
    "interactive_plot"
   ]
  },
  {
   "cell_type": "code",
   "execution_count": 10,
   "metadata": {},
   "outputs": [],
   "source": [
    "#Helper functions\n",
    "\n",
    "class Blade(): #single blade operation return wavefuntion at exit\n",
    "    '''\n",
    "    The blade function simulate the process shown in figure above. It takes in a state, number of planes and \n",
    "    return the transmitted component and reflected components\n",
    "    -------\n",
    "    '''\n",
    "    psin = np.array([[1],[0]])\n",
    "\n",
    "    \n",
    "    def __init__(self, n, q = np.pi/8):\n",
    "        '''\n",
    "        Ope: \n",
    "        2x2 matrix operator to act on a node\n",
    "        n: \n",
    "        the number of planes\n",
    "\n",
    "        psin: the input state which in a 2x2 matrix on the first blade.\n",
    "        '''\n",
    "        self.oper = np.matrix([[np.cos(q), np.sin(q)], [-np.sin(q), np.cos(q)]]) \n",
    "        self.nPlanes = n\n",
    "        #self.istate = np.matrix(psin)\n",
    "        self.final_state = []\n",
    "\n",
    "\n",
    "    def stateP(self):\n",
    "        '''\n",
    "        implement the state propagation. The state at the ouput is much larger\n",
    "        '''\n",
    "        psi = np.concatenate((psin, np.zeros((2, self.nPlanes-1))), axis=1);  \n",
    "        self.final_state = np.matrix(psi)\n",
    "        \n",
    "        for k in range(self.nPlanes):\n",
    "            self.final_state = self.oper*self.final_state;        \n",
    "            self.final_state[1] = np.roll(self.final_state[1], 1, axis=1);\n",
    "\n",
    "    def getState(self):\n",
    "        self.stateP()\n",
    "        return self.final_state\n",
    "    "
   ]
  },
  {
   "cell_type": "markdown",
   "metadata": {},
   "source": [
    "## Visualization of the various processes:\n",
    "1. Beam Profiles"
   ]
  },
  {
   "cell_type": "code",
   "execution_count": 17,
   "metadata": {},
   "outputs": [
    {
     "data": {
      "application/vnd.jupyter.widget-view+json": {
       "model_id": "b9386a41f86d403086f5176d3ad18c1f",
       "version_major": 2,
       "version_minor": 0
      },
      "text/plain": [
       "interactive(children=(FloatSlider(value=0.0, description='q', max=1.57, min=-1.57), Output(layout=Layout(heigh…"
      ]
     },
     "metadata": {},
     "output_type": "display_data"
    }
   ],
   "source": [
    "def bclass(q):\n",
    "    b = Blade(100, q)\n",
    "    out_state = b.getState()\n",
    "    plot2(out_state)\n",
    "    \n",
    "\n",
    "interactive_plot = interactive(bl,  q=(-3.14/2, 3.14/2))\n",
    "output = interactive_plot.children[-1]\n",
    "output.layout.height = '350px'\n",
    "interactive_plot"
   ]
  },
  {
   "cell_type": "markdown",
   "metadata": {},
   "source": [
    "Variation with the beam splitting angle for a single location. Consider a location at the center for both the reflected and the transmitted beam"
   ]
  },
  {
   "cell_type": "code",
   "execution_count": 18,
   "metadata": {},
   "outputs": [
    {
     "data": {
      "text/plain": [
 
      ]
     },
     "execution_count": 18,
     "metadata": {},
     "output_type": "execute_result"
    }
   ],
   "source": [
    "pwd"
   ]
  },
  {
   "cell_type": "code",
   "execution_count": null,
   "metadata": {},
   "outputs": [],
   "source": []
  }
 ],
 "metadata": {
  "kernelspec": {
   "display_name": "Python 3",
   "language": "python",
   "name": "python3"
  },
  "language_info": {
   "codemirror_mode": {
    "name": "ipython",
    "version": 3
   },
   "file_extension": ".py",
   "mimetype": "text/x-python",
   "name": "python",
   "nbconvert_exporter": "python",
   "pygments_lexer": "ipython3",
   "version": "3.7.3"
  }
 },
 "nbformat": 4,
 "nbformat_minor": 2
}
